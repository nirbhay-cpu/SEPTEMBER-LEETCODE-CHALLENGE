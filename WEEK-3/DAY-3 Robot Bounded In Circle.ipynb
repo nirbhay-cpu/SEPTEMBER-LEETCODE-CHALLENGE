{
 "cells": [
  {
   "cell_type": "code",
   "execution_count": null,
   "metadata": {},
   "outputs": [],
   "source": [
    "QUESTION-\n",
    "\n",
    "On an infinite plane, a robot initially stands at (0, 0) and faces north.  The robot can receive one of three instructions:\n",
    "\n",
    "\"G\": go straight 1 unit;\n",
    "\"L\": turn 90 degrees to the left;\n",
    "\"R\": turn 90 degress to the right.\n",
    "The robot performs the instructions given in order, and repeats them forever.\n",
    "\n",
    "Return true if and only if there exists a circle in the plane such that the robot never leaves the circle.\n",
    "\n",
    " \n",
    "\n",
    "Example 1:\n",
    "\n",
    "Input: \"GGLLGG\"\n",
    "Output: true\n",
    "Explanation: \n",
    "The robot moves from (0,0) to (0,2), turns 180 degrees, and then returns to (0,0).\n",
    "When repeating these instructions, the robot remains in the circle of radius 2 centered at the origin.\n",
    "Example 2:\n",
    "\n",
    "Input: \"GG\"\n",
    "Output: false\n",
    "Explanation: \n",
    "The robot moves north indefinitely.\n",
    "Example 3:\n",
    "\n",
    "Input: \"GL\"\n",
    "Output: true\n",
    "Explanation: \n",
    "The robot moves from (0, 0) -> (0, 1) -> (-1, 1) -> (-1, 0) -> (0, 0) -> ...\n",
    " \n",
    "\n",
    "Note:\n",
    "\n",
    "1 <= instructions.length <= 100\n",
    "instructions[i] is in {'G', 'L', 'R'}"
   ]
  },
  {
   "cell_type": "code",
   "execution_count": null,
   "metadata": {},
   "outputs": [],
   "source": [
    "class Solution:\n",
    "    def isRobotBounded(self, instructions: str) -> bool:\n",
    "        direction=[0,1]\n",
    "        start=[0,0]\n",
    "        \n",
    "        for _ in range(4):\n",
    "            for x in instructions:\n",
    "                if x == \"G\":\n",
    "                    start[0]+=direction[0]\n",
    "                    start[1]+=direction[1]\n",
    "                if x == \"L\":\n",
    "                    direction = [-direction[1],direction[0]]\n",
    "  \n",
    "                if x == \"R\":\n",
    "                    direction = [direction[1],-direction[0]]\n",
    "                    \n",
    "        \n",
    "        return start ==[0,0]"
   ]
  },
  {
   "cell_type": "code",
   "execution_count": null,
   "metadata": {},
   "outputs": [],
   "source": []
  }
 ],
 "metadata": {
  "kernelspec": {
   "display_name": "Python 3",
   "language": "python",
   "name": "python3"
  },
  "language_info": {
   "codemirror_mode": {
    "name": "ipython",
    "version": 3
   },
   "file_extension": ".py",
   "mimetype": "text/x-python",
   "name": "python",
   "nbconvert_exporter": "python",
   "pygments_lexer": "ipython3",
   "version": "3.7.6"
  }
 },
 "nbformat": 4,
 "nbformat_minor": 4
}
