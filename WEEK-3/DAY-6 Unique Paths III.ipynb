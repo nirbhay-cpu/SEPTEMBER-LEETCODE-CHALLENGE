{
 "cells": [
  {
   "cell_type": "code",
   "execution_count": null,
   "metadata": {},
   "outputs": [],
   "source": [
    "QUESTION-\n",
    "\n",
    "On a 2-dimensional grid, there are 4 types of squares:\n",
    "\n",
    "1 represents the starting square.  There is exactly one starting square.\n",
    "2 represents the ending square.  There is exactly one ending square.\n",
    "0 represents empty squares we can walk over.\n",
    "-1 represents obstacles that we cannot walk over.\n",
    "Return the number of 4-directional walks from the starting square to the ending square, that walk over every non-obstacle square exactly once.\n",
    "\n",
    " \n",
    "\n",
    "Example 1:\n",
    "\n",
    "Input: [[1,0,0,0],[0,0,0,0],[0,0,2,-1]]\n",
    "Output: 2\n",
    "Explanation: We have the following two paths: \n",
    "1. (0,0),(0,1),(0,2),(0,3),(1,3),(1,2),(1,1),(1,0),(2,0),(2,1),(2,2)\n",
    "2. (0,0),(1,0),(2,0),(2,1),(1,1),(0,1),(0,2),(0,3),(1,3),(1,2),(2,2)\n",
    "Example 2:\n",
    "\n",
    "Input: [[1,0,0,0],[0,0,0,0],[0,0,0,2]]\n",
    "Output: 4\n",
    "Explanation: We have the following four paths: \n",
    "1. (0,0),(0,1),(0,2),(0,3),(1,3),(1,2),(1,1),(1,0),(2,0),(2,1),(2,2),(2,3)\n",
    "2. (0,0),(0,1),(1,1),(1,0),(2,0),(2,1),(2,2),(1,2),(0,2),(0,3),(1,3),(2,3)\n",
    "3. (0,0),(1,0),(2,0),(2,1),(2,2),(1,2),(1,1),(0,1),(0,2),(0,3),(1,3),(2,3)\n",
    "4. (0,0),(1,0),(2,0),(2,1),(1,1),(0,1),(0,2),(0,3),(1,3),(1,2),(2,2),(2,3)\n",
    "Example 3:\n",
    "\n",
    "Input: [[0,1],[2,0]]\n",
    "Output: 0\n",
    "Explanation: \n",
    "There is no path that walks over every empty square exactly once.\n",
    "Note that the starting and ending square can be anywhere in the grid."
   ]
  },
  {
   "cell_type": "code",
   "execution_count": null,
   "metadata": {},
   "outputs": [],
   "source": [
    "class Solution:\n",
    "    def dfs(self,grid,x,y,zero):\n",
    "        if x<0 or y<0 or x>=len(grid) or y>=len(grid[0]) or grid[x][y]==-1:\n",
    "            return 0\n",
    "        if grid[x][y]==2:\n",
    "            if zero==-1:\n",
    "                return 1\n",
    "            else:\n",
    "                return 0\n",
    "        \n",
    "        grid[x][y] = -1\n",
    "        zero -= 1\n",
    "        \n",
    "        total= self.dfs(grid,x+1,y,zero) + self.dfs(grid,x,y+1,zero) + self.dfs(grid,x-1,y,zero) + self.dfs(grid,x,y-1,zero)\n",
    "        \n",
    "        grid[x][y]=0\n",
    "        \n",
    "        zero += 1\n",
    "        \n",
    "        return total\n",
    "        \n",
    "    \n",
    "    def uniquePathsIII(self, grid: List[List[int]]) -> int:\n",
    "        zero=0\n",
    "        for i in range(len(grid)):\n",
    "            for j in range(len(grid[0])):\n",
    "                if grid[i][j]==0:\n",
    "                    zero+=1\n",
    "                elif grid[i][j]==1:\n",
    "                    sx=i\n",
    "                    sy=j\n",
    "        return self.dfs(grid,sx,sy,zero) "
   ]
  },
  {
   "cell_type": "code",
   "execution_count": null,
   "metadata": {},
   "outputs": [],
   "source": []
  }
 ],
 "metadata": {
  "kernelspec": {
   "display_name": "Python 3",
   "language": "python",
   "name": "python3"
  },
  "language_info": {
   "codemirror_mode": {
    "name": "ipython",
    "version": 3
   },
   "file_extension": ".py",
   "mimetype": "text/x-python",
   "name": "python",
   "nbconvert_exporter": "python",
   "pygments_lexer": "ipython3",
   "version": "3.7.6"
  }
 },
 "nbformat": 4,
 "nbformat_minor": 4
}
