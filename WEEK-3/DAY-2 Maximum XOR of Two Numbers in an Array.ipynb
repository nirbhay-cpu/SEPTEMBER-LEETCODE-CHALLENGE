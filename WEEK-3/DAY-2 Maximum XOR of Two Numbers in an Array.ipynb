{
 "cells": [
  {
   "cell_type": "code",
   "execution_count": null,
   "metadata": {},
   "outputs": [],
   "source": [
    "QUESION-\n",
    "\n",
    "Given an integer array nums, return the maximum result of nums[i] XOR nums[j], where 0 ≤ i ≤ j < n.\n",
    "\n",
    "Follow up: Could you do this in O(n) runtime?\n",
    "\n",
    " \n",
    "\n",
    "Example 1:\n",
    "\n",
    "Input: nums = [3,10,5,25,2,8]\n",
    "Output: 28\n",
    "Explanation: The maximum result is 5 XOR 25 = 28.\n",
    "Example 2:\n",
    "\n",
    "Input: nums = [0]\n",
    "Output: 0\n",
    "Example 3:\n",
    "\n",
    "Input: nums = [2,4]\n",
    "Output: 6\n",
    "Example 4:\n",
    "\n",
    "Input: nums = [8,10,2]\n",
    "Output: 10\n",
    "Example 5:\n",
    "\n",
    "Input: nums = [14,70,53,83,49,91,36,80,92,51,66,70]\n",
    "Output: 127\n",
    " \n",
    "\n",
    "Constraints:\n",
    "\n",
    "1 <= nums.length <= 2 * 104\n",
    "0 <= nums[i] <= 231 - 1"
   ]
  },
  {
   "cell_type": "code",
   "execution_count": null,
   "metadata": {},
   "outputs": [],
   "source": [
    "class Solution:\n",
    "    def findMaximumXOR(self, nums: List[int]) -> int:\n",
    "        mask = 0\n",
    "        ans = 0\n",
    "        \n",
    "        for i in range(31, -1, -1):\n",
    "            mask = mask | 1 << i\n",
    "            s = set()\n",
    "            for num in nums:\n",
    "                s.add(num & mask)\n",
    "            \n",
    "            start = ans | 1 << i\n",
    "            \n",
    "            for prefix in s:\n",
    "                if start ^ prefix in s:\n",
    "                    ans = start\n",
    "        return ans"
   ]
  },
  {
   "cell_type": "code",
   "execution_count": null,
   "metadata": {},
   "outputs": [],
   "source": []
  }
 ],
 "metadata": {
  "kernelspec": {
   "display_name": "Python 3",
   "language": "python",
   "name": "python3"
  },
  "language_info": {
   "codemirror_mode": {
    "name": "ipython",
    "version": 3
   },
   "file_extension": ".py",
   "mimetype": "text/x-python",
   "name": "python",
   "nbconvert_exporter": "python",
   "pygments_lexer": "ipython3",
   "version": "3.7.6"
  }
 },
 "nbformat": 4,
 "nbformat_minor": 4
}
