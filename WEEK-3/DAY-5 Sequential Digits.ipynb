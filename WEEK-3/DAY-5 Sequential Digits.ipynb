{
 "cells": [
  {
   "cell_type": "code",
   "execution_count": null,
   "metadata": {},
   "outputs": [],
   "source": [
    "QUESTION-\n",
    "\n",
    "An integer has sequential digits if and only if each digit in the number is one more than the previous digit.\n",
    "\n",
    "Return a sorted list of all the integers in the range [low, high] inclusive that have sequential digits.\n",
    "\n",
    " \n",
    "\n",
    "Example 1:\n",
    "\n",
    "Input: low = 100, high = 300\n",
    "Output: [123,234]\n",
    "Example 2:\n",
    "\n",
    "Input: low = 1000, high = 13000\n",
    "Output: [1234,2345,3456,4567,5678,6789,12345]"
   ]
  },
  {
   "cell_type": "code",
   "execution_count": null,
   "metadata": {},
   "outputs": [],
   "source": [
    "Class Solution:\n",
    "    def sequentialDigits(self, low: int, high: int) -> List[int]:\n",
    "        l = len(str(low))\n",
    "        h = len(str(high))\n",
    "        l1=[]\n",
    "        s=\"\"\n",
    "        \n",
    "        while l<=h:\n",
    "            for i in range(1,11-l):\n",
    "            \n",
    "\n",
    "                if i+l<=10:\n",
    "                    for j in range(i,i+l):\n",
    "                        s += str(j)\n",
    "\n",
    "                    a=int(s)\n",
    "                    s=\"\"\n",
    "\n",
    "                    if a<=high and a>=low:\n",
    "                        l1.append(a)\n",
    "            l+=1\n",
    "        return (l1)"
   ]
  },
  {
   "cell_type": "code",
   "execution_count": null,
   "metadata": {},
   "outputs": [],
   "source": []
  }
 ],
 "metadata": {
  "kernelspec": {
   "display_name": "Python 3",
   "language": "python",
   "name": "python3"
  },
  "language_info": {
   "codemirror_mode": {
    "name": "ipython",
    "version": 3
   },
   "file_extension": ".py",
   "mimetype": "text/x-python",
   "name": "python",
   "nbconvert_exporter": "python",
   "pygments_lexer": "ipython3",
   "version": "3.7.6"
  }
 },
 "nbformat": 4,
 "nbformat_minor": 4
}
