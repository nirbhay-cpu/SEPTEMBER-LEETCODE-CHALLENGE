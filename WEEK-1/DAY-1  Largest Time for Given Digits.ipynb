{
 "cells": [
  {
   "cell_type": "code",
   "execution_count": null,
   "metadata": {},
   "outputs": [],
   "source": [
    "QUESTION-\n",
    "\n",
    "Given an array of 4 digits, return the largest 24 hour time that can be made.\n",
    "\n",
    "The smallest 24 hour time is 00:00, and the largest is 23:59.  Starting from 00:00, a time is larger if more time has elapsed since midnight.\n",
    "\n",
    "Return the answer as a string of length 5.  If no valid time can be made, return an empty string.\n",
    "\n",
    " \n",
    "\n",
    "Example 1:\n",
    "\n",
    "Input: A = [1,2,3,4]\n",
    "Output: \"23:41\"\n",
    "Example 2:\n",
    "\n",
    "Input: A = [5,5,5,5]\n",
    "Output: \"\"\n",
    "Example 3:\n",
    "\n",
    "Input: A = [0,0,0,0]\n",
    "Output: \"00:00\"\n",
    "Example 4:\n",
    "\n",
    "Input: A = [0,0,1,0]\n",
    "Output: \"10:00\"\n",
    " \n",
    "\n",
    "Constraints:\n",
    "\n",
    "arr.length == 4\n",
    "0 <= arr[i] <= 9"
   ]
  },
  {
   "cell_type": "code",
   "execution_count": null,
   "metadata": {},
   "outputs": [],
   "source": [
    "class Solution:\n",
    "    def largestTimeFromDigits(self, A: List[int]) -> str:\n",
    "           \n",
    "        A.sort()\n",
    "        if A[0]>=3 or A[1]>=6 :\n",
    "            return \"\"\n",
    "        \n",
    "        for p in itertools.permutations(A[::-1]):\n",
    "            if  (p[0]*10 + p[1]) <24  and (p[2]*10 +p[3])<60:\n",
    "                return str(p[0])+str(p[1])+\":\"+str(p[2])+str(p[3])\n",
    "        return \"\""
   ]
  },
  {
   "cell_type": "code",
   "execution_count": null,
   "metadata": {},
   "outputs": [],
   "source": []
  }
 ],
 "metadata": {
  "kernelspec": {
   "display_name": "Python 3",
   "language": "python",
   "name": "python3"
  },
  "language_info": {
   "codemirror_mode": {
    "name": "ipython",
    "version": 3
   },
   "file_extension": ".py",
   "mimetype": "text/x-python",
   "name": "python",
   "nbconvert_exporter": "python",
   "pygments_lexer": "ipython3",
   "version": "3.7.6"
  }
 },
 "nbformat": 4,
 "nbformat_minor": 4
}
