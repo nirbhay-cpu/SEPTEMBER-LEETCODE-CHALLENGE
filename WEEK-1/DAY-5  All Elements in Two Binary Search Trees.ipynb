{
 "cells": [
  {
   "cell_type": "code",
   "execution_count": null,
   "metadata": {},
   "outputs": [],
   "source": [
    "QUESTION-\n",
    "\n",
    "Given two binary search trees root1 and root2.\n",
    "\n",
    "Return a list containing all the integers from both trees sorted in ascending order.\n",
    "\n",
    " \n",
    "\n",
    "Example 1:\n",
    "\n",
    "\n",
    "Input: root1 = [2,1,4], root2 = [1,0,3]\n",
    "Output: [0,1,1,2,3,4]\n",
    "Example 2:\n",
    "\n",
    "Input: root1 = [0,-10,10], root2 = [5,1,7,0,2]\n",
    "Output: [-10,0,0,1,2,5,7,10]\n",
    "Example 3:\n",
    "\n",
    "Input: root1 = [], root2 = [5,1,7,0,2]\n",
    "Output: [0,1,2,5,7]\n",
    "Example 4:\n",
    "\n",
    "Input: root1 = [0,-10,10], root2 = []\n",
    "Output: [-10,0,10]\n",
    "Example 5:\n",
    "\n",
    "\n",
    "Input: root1 = [1,null,8], root2 = [8,1]\n",
    "Output: [1,1,8,8]\n",
    " \n",
    "\n",
    "Constraints:\n",
    "\n",
    "Each tree has at most 5000 nodes.\n",
    "Each node's value is between [-10^5, 10^5]"
   ]
  },
  {
   "cell_type": "code",
   "execution_count": null,
   "metadata": {},
   "outputs": [],
   "source": [
    "class Solution:\n",
    "    def inorder(self,root,lst):\n",
    "        if root is None:\n",
    "            return \n",
    "        self.inorder(root.left,lst)\n",
    "        lst.append(root.val)\n",
    "        self.inorder(root.right,lst)\n",
    "    \n",
    "    def getAllElements(self, root1: TreeNode, root2: TreeNode) -> List[int]:\n",
    "          \n",
    "        lst1, lst2 = [], []\n",
    "        self.inorder(root1, lst1)\n",
    "        self.inorder(root2, lst2)\n",
    "        \n",
    "        lst1.extend(lst2)\n",
    "        \n",
    "        return sorted(lst1)\n",
    "        "
   ]
  },
  {
   "cell_type": "code",
   "execution_count": null,
   "metadata": {},
   "outputs": [],
   "source": []
  }
 ],
 "metadata": {
  "kernelspec": {
   "display_name": "Python 3",
   "language": "python",
   "name": "python3"
  },
  "language_info": {
   "codemirror_mode": {
    "name": "ipython",
    "version": 3
   },
   "file_extension": ".py",
   "mimetype": "text/x-python",
   "name": "python",
   "nbconvert_exporter": "python",
   "pygments_lexer": "ipython3",
   "version": "3.7.6"
  }
 },
 "nbformat": 4,
 "nbformat_minor": 4
}
