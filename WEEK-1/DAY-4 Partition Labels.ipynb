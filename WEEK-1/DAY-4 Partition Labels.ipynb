{
 "cells": [
  {
   "cell_type": "code",
   "execution_count": null,
   "metadata": {},
   "outputs": [],
   "source": [
    "QUESTION-\n",
    "\n",
    "A string S of lowercase English letters is given. We want to partition this string into as many parts as possible so that each letter appears in at most one part, and return a list of integers representing the size of these parts.\n",
    "\n",
    " \n",
    "\n",
    "Example 1:\n",
    "\n",
    "Input: S = \"ababcbacadefegdehijhklij\"\n",
    "Output: [9,7,8]\n",
    "Explanation:\n",
    "The partition is \"ababcbaca\", \"defegde\", \"hijhklij\".\n",
    "This is a partition so that each letter appears in at most one part.\n",
    "A partition like \"ababcbacadefegde\", \"hijhklij\" is incorrect, because it splits S into less parts.\n",
    " \n",
    "\n",
    "Note:\n",
    "\n",
    "S will have length in range [1, 500].\n",
    "S will consist of lowercase English letters ('a' to 'z') only."
   ]
  },
  {
   "cell_type": "code",
   "execution_count": null,
   "metadata": {},
   "outputs": [],
   "source": [
    "class Solution:\n",
    "    def partitionLabels(self, S: str) -> List[int]:\n",
    "        lst ={c :i for i,c in enumerate(S)}\n",
    "        start=j=0\n",
    "        ans=[]\n",
    "        \n",
    "        for i,c in enumerate(S):\n",
    "            j=max(j,lst[c])\n",
    "            if i==j:\n",
    "                ans.append(i-start+1)\n",
    "                start=i+1\n",
    "        return ans  "
   ]
  },
  {
   "cell_type": "code",
   "execution_count": null,
   "metadata": {},
   "outputs": [],
   "source": []
  }
 ],
 "metadata": {
  "kernelspec": {
   "display_name": "Python 3",
   "language": "python",
   "name": "python3"
  },
  "language_info": {
   "codemirror_mode": {
    "name": "ipython",
    "version": 3
   },
   "file_extension": ".py",
   "mimetype": "text/x-python",
   "name": "python",
   "nbconvert_exporter": "python",
   "pygments_lexer": "ipython3",
   "version": "3.7.6"
  }
 },
 "nbformat": 4,
 "nbformat_minor": 4
}
