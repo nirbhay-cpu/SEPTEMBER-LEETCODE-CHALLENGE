{
 "cells": [
  {
   "cell_type": "code",
   "execution_count": null,
   "metadata": {},
   "outputs": [],
   "source": [
    "QUESTION-\n",
    "\n",
    "Given an array of integers, find out whether there are two distinct indices i and j in the array such that the absolute difference between nums[i] and nums[j] is at most t and the absolute difference between i and j is at most k.\n",
    "\n",
    " \n",
    "\n",
    "Example 1:\n",
    "\n",
    "Input: nums = [1,2,3,1], k = 3, t = 0\n",
    "Output: true\n",
    "Example 2:\n",
    "\n",
    "Input: nums = [1,0,1,1], k = 1, t = 2\n",
    "Output: true\n",
    "Example 3:\n",
    "\n",
    "Input: nums = [1,5,9,1,5,9], k = 2, t = 3\n",
    "Output: false\n",
    " \n",
    "\n",
    "Constraints:\n",
    "\n",
    "0 <= nums.length <= 2 * 104\n",
    "-231 <= nums[i] <= 231 - 1\n",
    "0 <= k <= 104\n",
    "0 <= t <= 231 - 1"
   ]
  },
  {
   "cell_type": "code",
   "execution_count": null,
   "metadata": {},
   "outputs": [],
   "source": [
    "class Solution:\n",
    "    def containsNearbyAlmostDuplicate(self, nums: List[int], k: int, t: int) -> bool:\n",
    "        size = len(nums)\n",
    "        if t == 0 and len(nums) == len( set(nums) ):\n",
    "            return False\n",
    "        \n",
    "        for i,val in enumerate(nums):\n",
    "            for j in range(i+1,i+k+1):\n",
    "                if j<size:\n",
    "                    if abs(val-nums[j])<=t:\n",
    "                        return True\n",
    "                else:\n",
    "                      break\n",
    "        return False"
   ]
  },
  {
   "cell_type": "code",
   "execution_count": null,
   "metadata": {},
   "outputs": [],
   "source": []
  }
 ],
 "metadata": {
  "kernelspec": {
   "display_name": "Python 3",
   "language": "python",
   "name": "python3"
  },
  "language_info": {
   "codemirror_mode": {
    "name": "ipython",
    "version": 3
   },
   "file_extension": ".py",
   "mimetype": "text/x-python",
   "name": "python",
   "nbconvert_exporter": "python",
   "pygments_lexer": "ipython3",
   "version": "3.7.6"
  }
 },
 "nbformat": 4,
 "nbformat_minor": 4
}
