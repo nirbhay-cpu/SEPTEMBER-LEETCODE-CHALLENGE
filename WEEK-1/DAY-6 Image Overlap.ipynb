{
 "cells": [
  {
   "cell_type": "code",
   "execution_count": null,
   "metadata": {},
   "outputs": [],
   "source": [
    "QUESTION-\n",
    "\n",
    "Two images A and B are given, represented as binary, square matrices of the same size.  (A binary matrix has only 0s and 1s as values.)\n",
    "\n",
    "We translate one image however we choose (sliding it left, right, up, or down any number of units), and place it on top of the other image.  After, the overlap of this translation is the number of positions that have a 1 in both images.\n",
    "\n",
    "(Note also that a translation does not include any kind of rotation.)\n",
    "\n",
    "What is the largest possible overlap?\n",
    "\n",
    "Example 1:\n",
    "\n",
    "Input: A = [[1,1,0],\n",
    "            [0,1,0],\n",
    "            [0,1,0]]\n",
    "       B = [[0,0,0],\n",
    "            [0,1,1],\n",
    "            [0,0,1]]\n",
    "Output: 3\n",
    "Explanation: We slide A to right by 1 unit and down by 1 unit.\n",
    "Notes: \n",
    "\n",
    "1 <= A.length = A[0].length = B.length = B[0].length <= 30\n",
    "0 <= A[i][j], B[i][j] <= 1"
   ]
  },
  {
   "cell_type": "code",
   "execution_count": null,
   "metadata": {},
   "outputs": [],
   "source": [
    "class Solution:\n",
    "    def largestOverlap(self, A: List[List[int]], B: List[List[int]]) -> int:\n",
    "        a1=[]\n",
    "        b1=[]\n",
    "        \n",
    "        for i in range(len(A)):\n",
    "            for j in range(len(A[0])):\n",
    "                if A[i][j]==1:\n",
    "                    a1.append((i,j))\n",
    "                if B[i][j]==1:\n",
    "                    b1.append((i,j))\n",
    "                    \n",
    "        d={}\n",
    "        ans=0\n",
    "        \n",
    "        for ax,ay in a1:\n",
    "            for bx,by in b1:\n",
    "                tran =(bx-ax,by-ay)\n",
    "                \n",
    "                if tran in d:\n",
    "                    d[tran]+=1\n",
    "                else:\n",
    "                    d[tran]=1\n",
    "                ans=max(ans,d[tran])  \n",
    "                \n",
    "                \n",
    "        return ans\n",
    "        "
   ]
  },
  {
   "cell_type": "code",
   "execution_count": null,
   "metadata": {},
   "outputs": [],
   "source": []
  }
 ],
 "metadata": {
  "kernelspec": {
   "display_name": "Python 3",
   "language": "python",
   "name": "python3"
  },
  "language_info": {
   "codemirror_mode": {
    "name": "ipython",
    "version": 3
   },
   "file_extension": ".py",
   "mimetype": "text/x-python",
   "name": "python",
   "nbconvert_exporter": "python",
   "pygments_lexer": "ipython3",
   "version": "3.7.6"
  }
 },
 "nbformat": 4,
 "nbformat_minor": 4
}
