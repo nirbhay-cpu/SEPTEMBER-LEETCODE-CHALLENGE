{
 "cells": [
  {
   "cell_type": "code",
   "execution_count": null,
   "metadata": {},
   "outputs": [],
   "source": [
    "QUESTION-\n",
    "\n",
    "Given a set of non-overlapping intervals, insert a new interval into the intervals (merge if necessary).\n",
    "\n",
    "You may assume that the intervals were initially sorted according to their start times.\n",
    "\n",
    " \n",
    "\n",
    "Example 1:\n",
    "\n",
    "Input: intervals = [[1,3],[6,9]], newInterval = [2,5]\n",
    "Output: [[1,5],[6,9]]\n",
    "Example 2:\n",
    "\n",
    "Input: intervals = [[1,2],[3,5],[6,7],[8,10],[12,16]], newInterval = [4,8]\n",
    "Output: [[1,2],[3,10],[12,16]]\n",
    "Explanation: Because the new interval [4,8] overlaps with [3,5],[6,7],[8,10].\n",
    "Example 3:\n",
    "\n",
    "Input: intervals = [], newInterval = [5,7]\n",
    "Output: [[5,7]]\n",
    "Example 4:\n",
    "\n",
    "Input: intervals = [[1,5]], newInterval = [2,3]\n",
    "Output: [[1,5]]\n",
    "Example 5:\n",
    "\n",
    "Input: intervals = [[1,5]], newInterval = [2,7]\n",
    "Output: [[1,7]]\n",
    " \n",
    "\n",
    "Constraints:\n",
    "\n",
    "0 <= intervals.length <= 104\n",
    "intervals[i].length == 2\n",
    "0 <= intervals[i][0] <= intervals[i][1] <= 105\n",
    "intervals is sorted by intervals[i][0] in ascending order.\n",
    "newInterval.length == 2\n",
    "0 <= newInterval[0] <= newInterval[1] <= 105"
   ]
  },
  {
   "cell_type": "code",
   "execution_count": null,
   "metadata": {},
   "outputs": [],
   "source": [
    "class Solution:\n",
    "    def insert(self, intervals: List[List[int]], newInterval: List[int]) -> List[List[int]]:\n",
    "        res=[]\n",
    "        \n",
    "        for ind,intv in enumerate(intervals):\n",
    "            \n",
    "            if newInterval[1]<intv[0]:\n",
    "                res.append(newInterval)\n",
    "                return res+intervals[ind:]\n",
    "            \n",
    "            elif newInterval[0]>intv[1]:\n",
    "                res.append(intv)\n",
    "                \n",
    "            else:\n",
    "                newInterval[0]= min(newInterval[0],intv[0])\n",
    "                newInterval[1]= max(newInterval[1],intv[1])\n",
    "                \n",
    "        res.append(newInterval)\n",
    "        \n",
    "        return res"
   ]
  },
  {
   "cell_type": "code",
   "execution_count": null,
   "metadata": {},
   "outputs": [],
   "source": []
  }
 ],
 "metadata": {
  "kernelspec": {
   "display_name": "Python 3",
   "language": "python",
   "name": "python3"
  },
  "language_info": {
   "codemirror_mode": {
    "name": "ipython",
    "version": 3
   },
   "file_extension": ".py",
   "mimetype": "text/x-python",
   "name": "python",
   "nbconvert_exporter": "python",
   "pygments_lexer": "ipython3",
   "version": "3.7.6"
  }
 },
 "nbformat": 4,
 "nbformat_minor": 4
}
