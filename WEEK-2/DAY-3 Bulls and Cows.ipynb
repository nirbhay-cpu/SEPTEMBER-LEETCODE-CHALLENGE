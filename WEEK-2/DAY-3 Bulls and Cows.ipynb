{
 "cells": [
  {
   "cell_type": "code",
   "execution_count": null,
   "metadata": {},
   "outputs": [],
   "source": [
    "QUESTION-\n",
    "\n",
    "You are playing the following Bulls and Cows game with your friend: You write down a number and ask your friend to guess what the number is. Each time your friend makes a guess, you provide a hint that indicates how many digits in said guess match your secret number exactly in both digit and position (called \"bulls\") and how many digits match the secret number but locate in the wrong position (called \"cows\"). Your friend will use successive guesses and hints to eventually derive the secret number.\n",
    "\n",
    "Write a function to return a hint according to the secret number and friend's guess, use A to indicate the bulls and B to indicate the cows. \n",
    "\n",
    "Please note that both secret number and friend's guess may contain duplicate digits.\n",
    "\n",
    " \n",
    "\n",
    "Example 1:\n",
    "\n",
    "Input: secret = \"1807\", guess = \"7810\"\n",
    "Output: \"1A3B\"\n",
    "Explanation: 1 bull and 3 cows. The bull is 8, the cows are 0, 1, and 7.\n",
    "Example 2:\n",
    "\n",
    "Input: secret = \"1123\", guess = \"0111\"\n",
    "Output: \"1A1B\"\n",
    "Explanation: The 1st 1 in friend's guess is a bull, the 2nd or 3rd 1 is a cow.\n",
    "Example 3:\n",
    "\n",
    "Input: secret = \"1\", guess = \"0\"\n",
    "Output: \"0A0B\"\n",
    "Example 4:\n",
    "\n",
    "Input: secret = \"1\", guess = \"1\"\n",
    "Output: \"1A0B\"\n",
    " \n",
    "\n",
    "Constraints:\n",
    "\n",
    "1 <= secret.length, guess.length <= 1000\n",
    "secret.length == guess.length\n",
    "secret and guess consist of digits only."
   ]
  },
  {
   "cell_type": "code",
   "execution_count": null,
   "metadata": {},
   "outputs": [],
   "source": [
    "def getHint(self, secret: str, guess: str) -> str:\n",
    "        s1=list(map(int,secret))\n",
    "        s2=list(map(int,guess))\n",
    "        a=0\n",
    "        b=0\n",
    "        \n",
    "        for i,j in zip(s1,s2):\n",
    "            if i==j:\n",
    "                a+=1\n",
    "                \n",
    "                \n",
    "        for x in s1:\n",
    "            if x in s2:\n",
    "                b+=1\n",
    "                s2.pop(s2.index(x))\n",
    "        b=b-a\n",
    "        \n",
    "        \n",
    "        return str(a)+\"A\"+str(b)+\"B\""
   ]
  },
  {
   "cell_type": "code",
   "execution_count": null,
   "metadata": {},
   "outputs": [],
   "source": []
  }
 ],
 "metadata": {
  "kernelspec": {
   "display_name": "Python 3",
   "language": "python",
   "name": "python3"
  },
  "language_info": {
   "codemirror_mode": {
    "name": "ipython",
    "version": 3
   },
   "file_extension": ".py",
   "mimetype": "text/x-python",
   "name": "python",
   "nbconvert_exporter": "python",
   "pygments_lexer": "ipython3",
   "version": "3.7.6"
  }
 },
 "nbformat": 4,
 "nbformat_minor": 4
}
