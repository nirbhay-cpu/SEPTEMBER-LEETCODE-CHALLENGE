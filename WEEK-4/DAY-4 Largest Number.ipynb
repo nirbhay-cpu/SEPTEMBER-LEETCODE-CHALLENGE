{
 "cells": [
  {
   "cell_type": "code",
   "execution_count": null,
   "metadata": {},
   "outputs": [],
   "source": [
    "QUESTION-\n",
    "\n",
    "Given a list of non negative integers, arrange them such that they form the largest number.\n",
    "\n",
    "Example 1:\n",
    "\n",
    "Input: [10,2]\n",
    "Output: \"210\"\n",
    "Example 2:\n",
    "\n",
    "Input: [3,30,34,5,9]\n",
    "Output: \"9534330\"\n",
    "Note: The result may be very large, so you need to return a string instead of an integer.\n"
   ]
  },
  {
   "cell_type": "code",
   "execution_count": null,
   "metadata": {},
   "outputs": [],
   "source": [
    "class Solution:\n",
    "    def largestNumber(self, nums: List[int]) -> str:\n",
    "    \n",
    "        if not any(map(bool,nums)):\n",
    "            return '0'\n",
    "        \n",
    "        nums=list(map(str,nums))\n",
    "        \n",
    "        if len(nums)<2:\n",
    "            return \"\".join(nums)\n",
    "        \n",
    "        def compare(x,y):\n",
    "            return int(nums[x]+nums[y]) > int(nums[y]+nums[x])\n",
    "        \n",
    "        for x in range(len(nums)-1):\n",
    "            y=x+1\n",
    "            \n",
    "            while x<len(nums) and y<len(nums):\n",
    "                \n",
    "                if compare(x,y):\n",
    "                    pass\n",
    "                else:\n",
    "                    nums[y],nums[x]=nums[x],nums[y]\n",
    "                \n",
    "                y+=1\n",
    "                    \n",
    "        \n",
    "        return \"\".join(nums)"
   ]
  },
  {
   "cell_type": "code",
   "execution_count": null,
   "metadata": {},
   "outputs": [],
   "source": []
  }
 ],
 "metadata": {
  "kernelspec": {
   "display_name": "Python 3",
   "language": "python",
   "name": "python3"
  },
  "language_info": {
   "codemirror_mode": {
    "name": "ipython",
    "version": 3
   },
   "file_extension": ".py",
   "mimetype": "text/x-python",
   "name": "python",
   "nbconvert_exporter": "python",
   "pygments_lexer": "ipython3",
   "version": "3.7.6"
  }
 },
 "nbformat": 4,
 "nbformat_minor": 4
}
