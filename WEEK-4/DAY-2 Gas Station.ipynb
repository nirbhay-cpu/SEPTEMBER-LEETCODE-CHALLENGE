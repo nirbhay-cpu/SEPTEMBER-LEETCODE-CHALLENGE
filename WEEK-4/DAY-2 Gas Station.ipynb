{
 "cells": [
  {
   "cell_type": "code",
   "execution_count": null,
   "metadata": {},
   "outputs": [],
   "source": [
    "QUESTION-\n",
    "\n",
    "There are N gas stations along a circular route, where the amount of gas at station i is gas[i].\n",
    "\n",
    "You have a car with an unlimited gas tank and it costs cost[i] of gas to travel from station i to its next station (i+1). You begin the journey with an empty tank at one of the gas stations.\n",
    "\n",
    "Return the starting gas station's index if you can travel around the circuit once in the clockwise direction, otherwise return -1.\n",
    "\n",
    "Note:\n",
    "\n",
    "If there exists a solution, it is guaranteed to be unique.\n",
    "Both input arrays are non-empty and have the same length.\n",
    "Each element in the input arrays is a non-negative integer.\n",
    "Example 1:\n",
    "\n",
    "Input: \n",
    "gas  = [1,2,3,4,5]\n",
    "cost = [3,4,5,1,2]\n",
    "\n",
    "Output: 3\n",
    "\n",
    "Explanation:\n",
    "Start at station 3 (index 3) and fill up with 4 unit of gas. Your tank = 0 + 4 = 4\n",
    "Travel to station 4. Your tank = 4 - 1 + 5 = 8\n",
    "Travel to station 0. Your tank = 8 - 2 + 1 = 7\n",
    "Travel to station 1. Your tank = 7 - 3 + 2 = 6\n",
    "Travel to station 2. Your tank = 6 - 4 + 3 = 5\n",
    "Travel to station 3. The cost is 5. Your gas is just enough to travel back to station 3.\n",
    "Therefore, return 3 as the starting index.\n",
    "Example 2:\n",
    "\n",
    "Input: \n",
    "gas  = [2,3,4]\n",
    "cost = [3,4,3]\n",
    "\n",
    "Output: -1\n",
    "\n",
    "Explanation:\n",
    "You can't start at station 0 or 1, as there is not enough gas to travel to the next station.\n",
    "Let's start at station 2 and fill up with 4 unit of gas. Your tank = 0 + 4 = 4\n",
    "Travel to station 0. Your tank = 4 - 3 + 2 = 3\n",
    "Travel to station 1. Your tank = 3 - 3 + 3 = 3\n",
    "You cannot travel back to station 2, as it requires 4 unit of gas but you only have 3.\n",
    "Therefore, you can't travel around the circuit once no matter where you start."
   ]
  },
  {
   "cell_type": "code",
   "execution_count": null,
   "metadata": {},
   "outputs": [],
   "source": [
    "class Solution:\n",
    "    def canCompleteCircuit(self, gas: List[int], cost: List[int]) -> int:\n",
    "        \n",
    "        start=0\n",
    "        shortage=0\n",
    "        tank=0\n",
    "        \n",
    "        for i in range(len(gas)):\n",
    "            tank+=gas[i]\n",
    "            \n",
    "            if tank>=cost[i]:                \n",
    "                tank -= cost[i]\n",
    "                \n",
    "            else:\n",
    "                shortage += cost[i] - tank\n",
    "                start= i+1\n",
    "                tank=0\n",
    "        \n",
    "        if start==len(gas) or tank<shortage:\n",
    "            return -1\n",
    "        return start"
   ]
  },
  {
   "cell_type": "code",
   "execution_count": null,
   "metadata": {},
   "outputs": [],
   "source": []
  }
 ],
 "metadata": {
  "kernelspec": {
   "display_name": "Python 3",
   "language": "python",
   "name": "python3"
  },
  "language_info": {
   "codemirror_mode": {
    "name": "ipython",
    "version": 3
   },
   "file_extension": ".py",
   "mimetype": "text/x-python",
   "name": "python",
   "nbconvert_exporter": "python",
   "pygments_lexer": "ipython3",
   "version": "3.7.6"
  }
 },
 "nbformat": 4,
 "nbformat_minor": 4
}
