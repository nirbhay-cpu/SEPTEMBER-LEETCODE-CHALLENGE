{
 "cells": [
  {
   "cell_type": "code",
   "execution_count": null,
   "metadata": {},
   "outputs": [],
   "source": [
    "QUESTION-\n",
    "\n",
    "Your are given an array of positive integers nums.\n",
    "\n",
    "Count and print the number of (contiguous) subarrays where the product of all the elements in the subarray is less than k.\n",
    "\n",
    "Example 1:\n",
    "Input: nums = [10, 5, 2, 6], k = 100\n",
    "Output: 8\n",
    "Explanation: The 8 subarrays that have product less than 100 are: [10], [5], [2], [6], [10, 5], [5, 2], [2, 6], [5, 2, 6].\n",
    "Note that [10, 5, 2] is not included as the product of 100 is not strictly less than k.\n",
    "Note:\n",
    "\n",
    "0 < nums.length <= 50000.\n",
    "0 < nums[i] < 1000.\n",
    "0 <= k < 10^6."
   ]
  },
  {
   "cell_type": "code",
   "execution_count": null,
   "metadata": {},
   "outputs": [],
   "source": [
    "class Solution:\n",
    "    def numSubarrayProductLessThanK(self, nums: List[int], k: int) -> int:\n",
    "        res=0\n",
    "        l=0\n",
    "        \n",
    "        prod=1\n",
    "        \n",
    "        for r  in range(len(nums)):\n",
    "            prod *= nums[r]\n",
    "            \n",
    "            if prod >= k:\n",
    "                while prod>=k and l<=r:\n",
    "                    prod /= nums[l]\n",
    "                    l+=1\n",
    "\n",
    "            res += r - l + 1\n",
    "            \n",
    "        return res\n",
    "                "
   ]
  },
  {
   "cell_type": "code",
   "execution_count": null,
   "metadata": {},
   "outputs": [],
   "source": []
  }
 ],
 "metadata": {
  "kernelspec": {
   "display_name": "Python 3",
   "language": "python",
   "name": "python3"
  },
  "language_info": {
   "codemirror_mode": {
    "name": "ipython",
    "version": 3
   },
   "file_extension": ".py",
   "mimetype": "text/x-python",
   "name": "python",
   "nbconvert_exporter": "python",
   "pygments_lexer": "ipython3",
   "version": "3.7.6"
  }
 },
 "nbformat": 4,
 "nbformat_minor": 4
}
