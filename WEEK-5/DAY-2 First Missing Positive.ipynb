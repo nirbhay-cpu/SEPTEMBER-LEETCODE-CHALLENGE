{
 "cells": [
  {
   "cell_type": "code",
   "execution_count": null,
   "metadata": {},
   "outputs": [],
   "source": [
    "QUESTION-\n",
    "\n",
    "Given an unsorted integer array, find the smallest missing positive integer.\n",
    "\n",
    "Example 1:\n",
    "\n",
    "Input: [1,2,0]\n",
    "Output: 3\n",
    "Example 2:\n",
    "\n",
    "Input: [3,4,-1,1]\n",
    "Output: 2\n",
    "Example 3:\n",
    "\n",
    "Input: [7,8,9,11,12]\n",
    "Output: 1\n",
    "Follow up:\n",
    "\n",
    "Your algorithm should run in O(n) time and uses constant extra space."
   ]
  },
  {
   "cell_type": "code",
   "execution_count": null,
   "metadata": {},
   "outputs": [],
   "source": [
    "class Solution:\n",
    "    def firstMissingPositive(self, nums: List[int]) -> int:\n",
    "        \n",
    "        nums=sorted(nums)\n",
    "        \n",
    "        if 1 not in nums:\n",
    "            return 1\n",
    "        \n",
    "        for i in range(1,len(nums)):\n",
    "            \n",
    "            if nums[i-1] <= 0:\n",
    "                pass\n",
    "            else:\n",
    "                if nums[i]-nums[i-1] > 1:\n",
    "                    return nums[i-1]+1\n",
    "                else:\n",
    "                    pass\n",
    "        \n",
    "        return nums[-1]+1"
   ]
  },
  {
   "cell_type": "code",
   "execution_count": null,
   "metadata": {},
   "outputs": [],
   "source": []
  }
 ],
 "metadata": {
  "kernelspec": {
   "display_name": "Python 3",
   "language": "python",
   "name": "python3"
  },
  "language_info": {
   "codemirror_mode": {
    "name": "ipython",
    "version": 3
   },
   "file_extension": ".py",
   "mimetype": "text/x-python",
   "name": "python",
   "nbconvert_exporter": "python",
   "pygments_lexer": "ipython3",
   "version": "3.7.6"
  }
 },
 "nbformat": 4,
 "nbformat_minor": 4
}
